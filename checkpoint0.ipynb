{
 "cells": [
  {
   "cell_type": "markdown",
   "id": "86a2b7ee",
   "metadata": {
    "colab_type": "text",
    "id": "0a8IYAJUshu1"
   },
   "source": [
    "# Checkpoint 0 "
   ]
  },
  {
   "cell_type": "markdown",
   "id": "2949d81f",
   "metadata": {},
   "source": [
    "These exercises are a mix of Python and Pandas practice. Most should be no more than a few lines of code! "
   ]
  },
  {
   "cell_type": "code",
   "execution_count": 2,
   "id": "0c245757",
   "metadata": {
    "colab": {},
    "colab_type": "code",
    "id": "Jo6wuTgkshu1"
   },
   "outputs": [],
   "source": [
    "# here is a Python list:\n",
    "\n",
    "a = [1, 2, 3, 4, 5, 6]\n"
   ]
  },
  {
   "cell_type": "code",
   "execution_count": 3,
   "id": "779d96b1",
   "metadata": {},
   "outputs": [
    {
     "name": "stdout",
     "output_type": "stream",
     "text": [
      "[4, 5, 6]\n"
     ]
    }
   ],
   "source": [
    "# get a list containing the last 3 elements of a\n",
    "# Yes, you can just type out [4, 5, 6] but we really want to see you demonstrate you know how to use list slicing in Python\n",
    "b = []\n",
    "i = 0\n",
    "j = len(a) - 3\n",
    "while i < 3:\n",
    "    b.append(a[j])\n",
    "    i += 1\n",
    "    j += 1\n",
    "print(b)"
   ]
  },
  {
   "cell_type": "code",
   "execution_count": 4,
   "id": "b6a54def",
   "metadata": {},
   "outputs": [
    {
     "name": "stdout",
     "output_type": "stream",
     "text": [
      "[1, 2, 3, 4, 5, 6, 7, 8, 9, 10, 11, 12, 13, 14, 15, 16, 17, 18, 19, 20]\n"
     ]
    }
   ],
   "source": [
    "# create a list of numbers from 1 to 20\n",
    "a_list = []\n",
    "i = 1\n",
    "while i < 21:\n",
    "    a_list.append(i)\n",
    "    i += 1\n",
    "print(a_list)"
   ]
  },
  {
   "cell_type": "code",
   "execution_count": 5,
   "id": "487873ac",
   "metadata": {},
   "outputs": [
    {
     "name": "stdout",
     "output_type": "stream",
     "text": [
      "[2, 4, 6, 8, 10, 12, 14, 16, 18, 20, 22, 24, 26, 28, 30, 32, 34, 36, 38, 40, 42, 44, 46, 48, 50, 52, 54, 56, 58, 60, 62, 64, 66, 68, 70, 72, 74, 76, 78, 80, 82, 84, 86, 88, 90, 92, 94, 96, 98, 100]\n"
     ]
    }
   ],
   "source": [
    "# now get a list with only the even numbers between 1 and 100\n",
    "# you may or may not make use of the list you made in the last cell\n",
    "b_list = []\n",
    "i = 1\n",
    "while i < 51:\n",
    "    b_list.append(i)\n",
    "    i += 1\n",
    "i = 0\n",
    "while i < 50:\n",
    "    b_list[i] = b_list[i] * 2\n",
    "    i += 1\n",
    "print(b_list)\n"
   ]
  },
  {
   "cell_type": "code",
   "execution_count": 6,
   "id": "3d4bb5dd",
   "metadata": {},
   "outputs": [],
   "source": [
    "# write a function that takes two numbers as arguments\n",
    "# and returns the first number divided by the second\n",
    "def divide(num1, num2):\n",
    "    value = num1 / num2\n",
    "    return value"
   ]
  },
  {
   "cell_type": "code",
   "execution_count": 7,
   "id": "b93669fa",
   "metadata": {},
   "outputs": [],
   "source": [
    "# write a function that takes a string as input\n",
    "# and return that string in all caps\n",
    "def cap_lock(word):\n",
    "    uppercase = word.upper()\n",
    "    return uppercase\n"
   ]
  },
  {
   "cell_type": "code",
   "execution_count": 8,
   "id": "f55df04e",
   "metadata": {},
   "outputs": [
    {
     "name": "stdout",
     "output_type": "stream",
     "text": [
      "1\n",
      "2\n",
      "fizz\n",
      "4\n",
      "buzz\n",
      "fizz\n",
      "7\n",
      "8\n",
      "fizz\n",
      "buzz\n",
      "11\n",
      "fizz\n",
      "13\n",
      "14\n",
      "fizz\n",
      "16\n",
      "17\n",
      "fizz\n",
      "19\n",
      "buzz\n",
      "fizz\n",
      "22\n",
      "23\n",
      "fizz\n",
      "buzz\n",
      "26\n",
      "fizz\n",
      "28\n",
      "29\n",
      "fizz\n"
     ]
    }
   ],
   "source": [
    "# fizzbuzz\n",
    "# you will need to use both iteration and control flow \n",
    "# go through all numbers from 1 to 30 in order\n",
    "# if the number is a multiple of 3, print fizz\n",
    "# if the number is a multiple of 5, print buzz\n",
    "# if the number is a multiple of 3 and 5, print fizzbuzz and NOTHING ELSE\n",
    "# if the number is neither a multiple of 3 nor a multiple of 5, print the number\n",
    "i = 1\n",
    "while i < 31:\n",
    "    if i % 3 == 0:\n",
    "        print('fizz')\n",
    "    elif i % 5 == 0:\n",
    "        print('buzz')\n",
    "    else:\n",
    "        print(i)\n",
    "    i += 1\n"
   ]
  },
  {
   "cell_type": "code",
   "execution_count": 9,
   "id": "78aace0b",
   "metadata": {},
   "outputs": [
    {
     "name": "stdout",
     "output_type": "stream",
     "text": [
      "{'Gyro': 9, 'Burger': 9, 'Greek Salad': 8, 'Pilly Steak': 10}\n"
     ]
    }
   ],
   "source": [
    "# create a dictionary that reflects the following menu pricing (taken from Ahmo's)\n",
    "# Gyro: $9 \n",
    "# Burger: $9\n",
    "# Greek Salad: $8\n",
    "# Philly Steak: $10\n",
    "ahmo_express_pricing = {\"Gyro\":9, \"Burger\":9, \"Greek Salad\":8, \"Pilly Steak\":10}\n",
    "print(ahmo_express_pricing)"
   ]
  },
  {
   "cell_type": "code",
   "execution_count": 10,
   "id": "621999cf",
   "metadata": {
    "colab": {},
    "colab_type": "code",
    "id": "WzCQ5HOJshvA"
   },
   "outputs": [
    {
     "name": "stdout",
     "output_type": "stream",
     "text": [
      "            beverage_category                                    beverage  \\\n",
      "0                      coffee                               brewed coffee   \n",
      "1                      coffee                               brewed coffee   \n",
      "2                      coffee                               brewed coffee   \n",
      "3                      coffee                               brewed coffee   \n",
      "4     classic espresso drinks                                  caff latte   \n",
      "..                        ...                                         ...   \n",
      "237  frappuccino blended crme  strawberries  crme (without whipped cream)   \n",
      "238  frappuccino blended crme        vanilla bean (without whipped cream)   \n",
      "239  frappuccino blended crme        vanilla bean (without whipped cream)   \n",
      "240  frappuccino blended crme        vanilla bean (without whipped cream)   \n",
      "241  frappuccino blended crme        vanilla bean (without whipped cream)   \n",
      "\n",
      "          beverage_prep  calories  total fat  trans fat  saturated fat  \\\n",
      "0                 Short         3        0.1        0.0            0.0   \n",
      "1                  Tall         4        0.1        0.0            0.0   \n",
      "2                Grande         5        0.1        0.0            0.0   \n",
      "3                 Venti         5        0.1        0.0            0.0   \n",
      "4     Short Nonfat Milk        70        0.1        0.1            0.0   \n",
      "..                  ...       ...        ...        ...            ...   \n",
      "237             Soymilk       320        3.2        0.4            0.0   \n",
      "238    Tall Nonfat Milk       170        0.1        0.1            0.0   \n",
      "239          Whole Milk       200        3.5        2.0            0.1   \n",
      "240             Soymilk       180        1.5        0.2            0.0   \n",
      "241  Grande Nonfat Milk       240        0.1        0.1            0.0   \n",
      "\n",
      "     sodium  total carbohydrates  cholesterol  dietary fibre  sugars  protein  \\\n",
      "0         0                    5            0              0       0      0.3   \n",
      "1         0                   10            0              0       0      0.5   \n",
      "2         0                   10            0              0       0      1.0   \n",
      "3         0                   10            0              0       0      1.0   \n",
      "4         5                   75           10              0       9      6.0   \n",
      "..      ...                  ...          ...            ...     ...      ...   \n",
      "237       0                  250           67              1      64      5.0   \n",
      "238       0                  160           39              0      38      4.0   \n",
      "239      10                  160           39              0      38      3.0   \n",
      "240       0                  160           37              1      35      3.0   \n",
      "241       5                  230           56              0      55      5.0   \n",
      "\n",
      "     vitamin a  vitamin c  calcium  iron  caffeine  \n",
      "0            0          0        0   0.0     175.0  \n",
      "1            0          0        0   0.0     260.0  \n",
      "2            0          0        0   0.0     330.0  \n",
      "3            0          0        2   0.0     410.0  \n",
      "4           10          0       20   0.0      75.0  \n",
      "..         ...        ...      ...   ...       ...  \n",
      "237          6          8       20  10.0       0.0  \n",
      "238          6          0       10   0.0       0.0  \n",
      "239          6          0       10   0.0       0.0  \n",
      "240          4          0       10   6.0       0.0  \n",
      "241          8          0       15   0.0       0.0  \n",
      "\n",
      "[242 rows x 18 columns]\n"
     ]
    }
   ],
   "source": [
    "# load in the \"starbucks.csv\" dataset\n",
    "import pandas as pd\n",
    "# refer to how we read the cereal.csv dataset in the tutorial\n",
    "starbucks_data = pd.read_csv('starbucks.csv')\n",
    "print(starbucks_data)"
   ]
  },
  {
   "cell_type": "code",
   "execution_count": 11,
   "id": "68210b5f",
   "metadata": {},
   "outputs": [
    {
     "name": "stdout",
     "output_type": "stream",
     "text": [
      "3 0 0.3\n",
      "5 0 0.4\n",
      "350 58 15.0\n",
      "140 20 6.0\n",
      "110 24 2.0\n",
      "200 41 3.0\n",
      "180 35 3.0\n"
     ]
    }
   ],
   "source": [
    "# output the calories, sugars, and protein columns only of every 40th row. \n",
    "all_calories = starbucks_data['calories'].to_list()\n",
    "all_sugar = starbucks_data['sugars'].to_list()\n",
    "all_protein = starbucks_data['protein'].to_list()\n",
    "\n",
    "i = 0\n",
    "while i < len(all_calories):\n",
    "    print(all_calories[i], all_sugar[i], all_protein[i])\n",
    "    i += 40"
   ]
  },
  {
   "cell_type": "code",
   "execution_count": 12,
   "id": "ac0f0c12",
   "metadata": {},
   "outputs": [
    {
     "name": "stdout",
     "output_type": "stream",
     "text": [
      "400 81\n",
      "450 83\n",
      "510 84\n",
      "460 85\n",
      "450 128\n",
      "420 214\n",
      "460 215\n",
      "430 216\n",
      "[81, 83, 84, 85, 128, 214, 215, 216]\n"
     ]
    }
   ],
   "source": [
    "# select all rows with more than and including 400 calories\n",
    "all_calories = starbucks_data['calories'].to_list()\n",
    "over_400_cal_list = []\n",
    "i = 0\n",
    "while i < len(all_calories):\n",
    "    if all_calories[i] >= 400:\n",
    "        over_400_cal_list.append(i)\n",
    "        print(all_calories[i], i)\n",
    "    i += 1\n",
    "print(over_400_cal_list)"
   ]
  },
  {
   "cell_type": "code",
   "execution_count": 13,
   "id": "ee8f8241",
   "metadata": {},
   "outputs": [
    {
     "name": "stdout",
     "output_type": "stream",
     "text": [
      "2 11\n",
      "2 14\n",
      "2 35\n",
      "2 38\n",
      "2 69\n",
      "2 72\n",
      "2 75\n",
      "2 77\n",
      "2 78\n",
      "2 81\n",
      "4 84\n",
      "4 118\n",
      "6 119\n",
      "10 121\n",
      "10 122\n",
      "15 124\n",
      "15 125\n",
      "20 127\n",
      "20 128\n",
      "10 169\n",
      "15 170\n",
      "20 171\n",
      "15 172\n",
      "80 175\n",
      "80 176\n",
      "80 177\n",
      "100 178\n",
      "100 179\n",
      "100 180\n",
      "6 229\n",
      "6 230\n",
      "6 232\n",
      "6 233\n",
      "8 235\n",
      "8 236\n",
      "[11, 14, 35, 38, 69, 72, 75, 77, 78, 81, 84, 118, 119, 121, 122, 124, 125, 127, 128, 169, 170, 171, 172, 175, 176, 177, 178, 179, 180, 229, 230, 232, 233, 235, 236]\n"
     ]
    }
   ],
   "source": [
    "# select all rows whose vitamin c content is higher than the iron content\n",
    "all_vit_c = starbucks_data['vitamin c'].to_list()\n",
    "all_iron = starbucks_data['iron'].to_list()\n",
    "\n",
    "higher_vit_c = []\n",
    "\n",
    "i = 0\n",
    "while i < len(all_iron):\n",
    "    if all_vit_c[i] > all_iron[i]:\n",
    "        print(all_vit_c[i], i)\n",
    "        higher_vit_c.append(i)\n",
    "    i += 1\n",
    "print(higher_vit_c)\n",
    "        "
   ]
  },
  {
   "cell_type": "code",
   "execution_count": 14,
   "id": "d4de48bb",
   "metadata": {},
   "outputs": [
    {
     "name": "stdout",
     "output_type": "stream",
     "text": [
      "For drinks with zero calories, caffeine per calories is just the total amount of caffeine.\n",
      "Caffeine per calories:  [58.33, 65.0, 66.0, 82.0, 1.07, 0.75, 1.07, 0.75, 0.5, 0.68, 1.15, 0.79, 1.0, 0.88, 0.62, 0.79, 0.77, 0.65, 0.77, 0.56, 0.47, 0.53, 0.8, 0.67, 0.76, 0.64, 0.53, 0.62, 0.75, 0.58, 0.68, 0.5, 0.38, 0.47, 0.75, 0.6, 0.71, 0.6, 0.47, 0.56, 15.0, 15.0, 15.0, 12.0, 1.5, 0.94, 1.5, 1.25, 0.83, 1.07, 1.88, 1.25, 1.5, 1.36, 1.0, 1.25, 15.0, 15.0, 1.25, 0.75, 1.25, 0.94, 0.75, 0.62, 0.75, 0.54, 0.42, 0.5, 0.79, 0.62, 0.75, 0.62, 0.5, 0.6, 0.42, 0.38, 0.42, 0.28, 0.24, 0.27, 0.43, 0.38, 0.41, 0.33, 0.29, 0.33, 0.08, 0.07, 0.08, 0.11, 0.09, 0.1, 0.1, 0.09, 0.1, 0.09, 0.08, 0.09, 0.0, 0.0, 0.0, 0.0, 89.52054794520548, 89.52054794520548, 89.52054794520548, 89.52054794520548, 0.5, 0.42, 0.45, 0.44, 0.37, 0.44, 0.45, 0.4, 0.43, 0.46, 0.39, 0.43, 0.19, 0.15, 0.18, 0.26, 0.21, 0.24, 0.28, 0.23, 0.26, 0.3, 0.24, 0.28, 1.12, 0.99, 1.12, 0.75, 0.64, 0.69, 0.6, 0.47, 0.53, 0.47, 0.39, 0.43, 0.0, 0.0, 0.0, 0.0, 0.0, 0.0, 0.0, 0.0, 0.0, 0.0, 0.0, 0.0, 2.0, 1.83, 1.81, 1.12, 0.99, 1.12, 0.82, 1.04, 1.14, 0.78, 0.94, 1.0, 2.83, 1.12, 0.75, 0.9, 0.69, 0.47, 0.32, 0.05, 0.05, 0.06, 0.0, 0.0, 0.0, 0.0, 0.0, 0.0, 0.39, 0.44, 0.32, 0.4, 0.43, 0.31, 0.37, 0.42, 0.72, 0.35, 0.39, 0.42, 0.38, 0.42, 0.41, 0.36, 0.4, 0.39, 0.35, 0.39, 0.36, 0.36, 0.38, 0.39, 0.35, 0.38, 0.34, 0.31, 0.34, 0.35, 0.32, 0.35, 0.35, 0.32, 0.34, 0.78, 0.79, 0.75, 0.64, 0.63, 0.62, 0.65, 0.6, 0.6, 0.47, 0.48, 0.57, 0.0, 0.0, 0.0, 0.0, 0.0, 0.0, 0.0, 0.0, 0.0, 0.0, 0.0, 0.0, 0.0]\n",
      "Calorie free drinks:  [102, 103, 104, 105]\n",
      "            beverage_category                                    beverage  \\\n",
      "0                      coffee                               brewed coffee   \n",
      "1                      coffee                               brewed coffee   \n",
      "2                      coffee                               brewed coffee   \n",
      "3                      coffee                               brewed coffee   \n",
      "4     classic espresso drinks                                  caff latte   \n",
      "..                        ...                                         ...   \n",
      "237  frappuccino blended crme  strawberries  crme (without whipped cream)   \n",
      "238  frappuccino blended crme        vanilla bean (without whipped cream)   \n",
      "239  frappuccino blended crme        vanilla bean (without whipped cream)   \n",
      "240  frappuccino blended crme        vanilla bean (without whipped cream)   \n",
      "241  frappuccino blended crme        vanilla bean (without whipped cream)   \n",
      "\n",
      "          beverage_prep  calories  total fat  trans fat  saturated fat  \\\n",
      "0                 Short         3        0.1        0.0            0.0   \n",
      "1                  Tall         4        0.1        0.0            0.0   \n",
      "2                Grande         5        0.1        0.0            0.0   \n",
      "3                 Venti         5        0.1        0.0            0.0   \n",
      "4     Short Nonfat Milk        70        0.1        0.1            0.0   \n",
      "..                  ...       ...        ...        ...            ...   \n",
      "237             Soymilk       320        3.2        0.4            0.0   \n",
      "238    Tall Nonfat Milk       170        0.1        0.1            0.0   \n",
      "239          Whole Milk       200        3.5        2.0            0.1   \n",
      "240             Soymilk       180        1.5        0.2            0.0   \n",
      "241  Grande Nonfat Milk       240        0.1        0.1            0.0   \n",
      "\n",
      "     sodium  total carbohydrates  cholesterol  dietary fibre  sugars  protein  \\\n",
      "0         0                    5            0              0       0      0.3   \n",
      "1         0                   10            0              0       0      0.5   \n",
      "2         0                   10            0              0       0      1.0   \n",
      "3         0                   10            0              0       0      1.0   \n",
      "4         5                   75           10              0       9      6.0   \n",
      "..      ...                  ...          ...            ...     ...      ...   \n",
      "237       0                  250           67              1      64      5.0   \n",
      "238       0                  160           39              0      38      4.0   \n",
      "239      10                  160           39              0      38      3.0   \n",
      "240       0                  160           37              1      35      3.0   \n",
      "241       5                  230           56              0      55      5.0   \n",
      "\n",
      "     vitamin a  vitamin c  calcium  iron  caffeine  caffeine per calories  \n",
      "0            0          0        0   0.0     175.0                  58.33  \n",
      "1            0          0        0   0.0     260.0                  65.00  \n",
      "2            0          0        0   0.0     330.0                  66.00  \n",
      "3            0          0        2   0.0     410.0                  82.00  \n",
      "4           10          0       20   0.0      75.0                   1.07  \n",
      "..         ...        ...      ...   ...       ...                    ...  \n",
      "237          6          8       20  10.0       0.0                   0.00  \n",
      "238          6          0       10   0.0       0.0                   0.00  \n",
      "239          6          0       10   0.0       0.0                   0.00  \n",
      "240          4          0       10   6.0       0.0                   0.00  \n",
      "241          8          0       15   0.0       0.0                   0.00  \n",
      "\n",
      "[242 rows x 19 columns]\n"
     ]
    }
   ],
   "source": [
    "# create a new column containing the caffeine per calories of each drink\n",
    "all_caffeine = starbucks_data['caffeine'].to_list()\n",
    "all_calories = starbucks_data['calories'].to_list()\n",
    "\n",
    "caffeine_per_calories = []\n",
    "calorie_free_drinks = []\n",
    "i = 0\n",
    "while i < len(all_caffeine):\n",
    "    if all_calories[i] == 0:\n",
    "        \n",
    "        caffeine_per_calories.append(all_caffeine[i])\n",
    "        calorie_free_drinks.append(i)\n",
    "    else:\n",
    "        value = all_caffeine[i] / all_calories[i]\n",
    "        value = round(value, 2)\n",
    "        caffeine_per_calories.append(value)\n",
    "    i += 1\n",
    "\n",
    "starbucks_data['caffeine per calories'] = caffeine_per_calories\n",
    "print('For drinks with zero calories, caffeine per calories is just the total amount of caffeine.')\n",
    "print('Caffeine per calories: ', caffeine_per_calories)\n",
    "print('Calorie free drinks: ', calorie_free_drinks)\n",
    "print(starbucks_data)\n"
   ]
  },
  {
   "cell_type": "code",
   "execution_count": 15,
   "id": "ac40a136",
   "metadata": {
    "colab": {},
    "colab_type": "code",
    "id": "rIoxaSxHshvB"
   },
   "outputs": [
    {
     "name": "stdout",
     "output_type": "stream",
     "text": [
      "193.872\n"
     ]
    }
   ],
   "source": [
    "# what is the average calorie across all items?\n",
    "all_calories = starbucks_data['calories'].to_list()\n",
    "\n",
    "sum = 0\n",
    "i = 0\n",
    "while i < len(all_calories):\n",
    "    sum += all_calories[i]\n",
    "    i += 1\n",
    "avg_cal = sum / len(all_calories)\n",
    "\n",
    "avg_cal = round(avg_cal, 3)\n",
    "print(avg_cal)\n"
   ]
  },
  {
   "cell_type": "code",
   "execution_count": 16,
   "id": "f9545136",
   "metadata": {
    "colab": {},
    "colab_type": "code",
    "id": "ABX7i49FshvD"
   },
   "outputs": [
    {
     "name": "stdout",
     "output_type": "stream",
     "text": [
      "['coffee', 'classic espresso drinks', 'signature espresso drinks', 'tazo tea drinks', 'shaken iced beverages', 'smoothies', 'frappuccino blended coffee', 'frappuccino light blended coffee', 'frappuccino blended crme']\n"
     ]
    }
   ],
   "source": [
    "# how many different categories of beverages are there?\n",
    "beverage_categories = starbucks_data['beverage_category'].to_list()\n",
    "\n",
    "beverage_category_list = []\n",
    "i = 0\n",
    "j = 0\n",
    "while i < len(beverage_categories):\n",
    "    if beverage_categories[i] in beverage_category_list:\n",
    "        i += 1\n",
    "    else:\n",
    "        beverage_category_list.append(beverage_categories[i])\n",
    "        i += 1\n",
    "print(beverage_category_list)\n",
    "            "
   ]
  },
  {
   "cell_type": "code",
   "execution_count": 17,
   "id": "ef52442c",
   "metadata": {
    "colab": {},
    "colab_type": "code",
    "id": "P9QatZAzshvE"
   },
   "outputs": [
    {
     "name": "stdout",
     "output_type": "stream",
     "text": [
      "coffee 4.25\n",
      "classic espresso drinks 140.17\n",
      "signature espresso drinks 250.0\n",
      "tazo tea drinks 177.31\n",
      "shaken iced beverages 114.44\n",
      "smoothies 282.22\n",
      "frappuccino blended coffee 276.94\n",
      "frappuccino light blended coffee 162.5\n",
      "frappuccino blended crme 233.08\n"
     ]
    }
   ],
   "source": [
    "# what is the average # calories for each beverage category?\n",
    "all_calories = starbucks_data['calories'].to_list()\n",
    "beverage_categories = starbucks_data['beverage_category'].to_list()\n",
    "\n",
    "average_cal_per_bev = []\n",
    "beverage_category_list = []\n",
    "\n",
    "i = 0\n",
    "j = 0\n",
    "while i < len(beverage_categories):\n",
    "    if beverage_categories[i] in beverage_category_list:\n",
    "        i += 1\n",
    "    else:\n",
    "        beverage_category_list.append(beverage_categories[i])\n",
    "        i += 1\n",
    "\n",
    "\n",
    "\n",
    "i = 0\n",
    "while i < len(beverage_category_list):\n",
    "    avg_cal = 0\n",
    "    count = 0\n",
    "    cal_count = 0\n",
    "    j = 0\n",
    "    while j < len(beverage_categories):\n",
    "        if beverage_category_list[i] == beverage_categories[j]:\n",
    "            count += 1\n",
    "            cal_count += all_calories[j]\n",
    "        j += 1\n",
    "    avg_cal = cal_count / count\n",
    "    average_cal_per_bev.append(avg_cal)\n",
    "    i += 1\n",
    "k = 0\n",
    "while k < len(beverage_category_list):\n",
    "    average_cal_per_bev[k] = round(average_cal_per_bev[k], 2)\n",
    "    print(beverage_category_list[k], average_cal_per_bev[k])\n",
    "    k += 1"
   ]
  },
  {
   "cell_type": "code",
   "execution_count": null,
   "id": "89011388",
   "metadata": {},
   "outputs": [],
   "source": []
  },
  {
   "cell_type": "code",
   "execution_count": null,
   "id": "2999d37d",
   "metadata": {},
   "outputs": [],
   "source": []
  },
  {
   "cell_type": "code",
   "execution_count": null,
   "id": "9759aa07",
   "metadata": {},
   "outputs": [],
   "source": []
  },
  {
   "cell_type": "code",
   "execution_count": null,
   "id": "835d7dfc",
   "metadata": {},
   "outputs": [],
   "source": []
  },
  {
   "cell_type": "code",
   "execution_count": null,
   "id": "a9643d42",
   "metadata": {},
   "outputs": [],
   "source": []
  }
 ],
 "metadata": {
  "kernelspec": {
   "display_name": "Python 3 (ipykernel)",
   "language": "python",
   "name": "python3"
  },
  "language_info": {
   "codemirror_mode": {
    "name": "ipython",
    "version": 3
   },
   "file_extension": ".py",
   "mimetype": "text/x-python",
   "name": "python",
   "nbconvert_exporter": "python",
   "pygments_lexer": "ipython3",
   "version": "3.10.9"
  },
  "vscode": {
   "interpreter": {
    "hash": "6cf8df3ff69f85f626faf55c10df6fe2cb9d1236b4dc73844ee4dc01369c2c99"
   }
  }
 },
 "nbformat": 4,
 "nbformat_minor": 5
}
